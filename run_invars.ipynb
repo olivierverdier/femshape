{
 "cells": [
  {
   "cell_type": "code",
   "execution_count": null,
   "metadata": {},
   "outputs": [],
   "source": [
    "%run femshape\n",
    "import numpy as np\n",
    "import matplotlib.pyplot as pl"
   ]
  },
  {
   "cell_type": "code",
   "execution_count": null,
   "metadata": {},
   "outputs": [],
   "source": [
    "%matplotlib inline"
   ]
  },
  {
   "cell_type": "code",
   "execution_count": null,
   "metadata": {},
   "outputs": [],
   "source": [
    "n = 5000\n",
    "# Circle\n",
    "t=np.linspace(0,2*np.pi,n,endpoint=False)\n",
    "gamma1 = np.vstack((0.5*np.cos(t),0.5*np.sin(2*t))).T\n",
    "#gamma1 = np.vstack((0.5*np.cos(t),0.5*np.sin(t))).T    \n",
    "error = np.zeros((8,4,2))\n",
    "count = 0\n",
    "for m in [1,2,4,8,16,32,64,128]:\n",
    "    count += 1\n",
    "    for o in range(4):\n",
    "        space = Space(order=o+1, meshsize=m,L=1)\n",
    "        current = Current(space, gamma1)\n",
    "        #inv1 = shapecalc.compute_invariants(gamma1,closed=True)\n",
    "        #inv1 = shapecalc.compute_invariants(gamma1,closed=False)\n",
    "        x, y, H1, H2 = current.calcM()\n",
    "        error[count-1,o,0] = H1\n",
    "        error[count-1,o,1] = H2\n"
   ]
  },
  {
   "cell_type": "code",
   "execution_count": null,
   "metadata": {},
   "outputs": [],
   "source": [
    "fig = pl.figure()\n",
    "pl.title('a'+str(error[0,0,0]))\n",
    "pl.plot([1,2],[2,3])"
   ]
  },
  {
   "cell_type": "code",
   "execution_count": null,
   "metadata": {},
   "outputs": [],
   "source": [
    "\n",
    "pl.figure()\n",
    "for i in range(4):\n",
    "    pl.plot(range(8),error[:,i,0])\n",
    "\n",
    "pl.figure()\n",
    "for i in range(4):\n",
    "    pl.plot(range(8),error[:,i,1])\n",
    "    \n",
    "pl.figure()\n",
    "for i in range(4):\n",
    "    pl.plot(range(7),np.log2(error[1:,i,0] - error[:7,i,0]),'b--')\n",
    "    pl.plot(range(7),np.log2(error[1:,i,1] - error[:7,i,1]),color='r')\n",
    "    "
   ]
  },
  {
   "cell_type": "code",
   "execution_count": null,
   "metadata": {},
   "outputs": [],
   "source": [
    "pl.figure()\n",
    "for i in range(4):\n",
    "    pl.plot(range(8),error[:,i,0])\n",
    "\n",
    "pl.figure()\n",
    "for i in range(4):\n",
    "    pl.plot(range(8),error[:,i,1])\n",
    "    \n",
    "pl.figure()\n",
    "for i in range(4):\n",
    "    pl.plot(range(7),np.log2(error[1:,i,0] - error[:7,i,0]),'b--')\n",
    "    pl.plot(range(7),np.log2(error[1:,i,1] - error[:7,i,1]),color='r')"
   ]
  },
  {
   "cell_type": "code",
   "execution_count": null,
   "metadata": {},
   "outputs": [],
   "source": [
    "pl.figure()\n",
    "for i in range(4):\n",
    "    pl.plot(np.log2((i+2)*(i+3)/6.0)+range(0,14,2),np.log2(error[1:,i,0] - error[:7,i,0]))\n",
    "pl.xlabel('Log 2 of #dof')\n",
    "\n",
    "pl.figure()\n",
    "for i in range(4):\n",
    "    pl.plot(np.log2((i+2)*(i+3)/6.0)+range(0,14,2),np.log2(error[1:,i,1] - error[:7,i,1]))\n",
    "pl.xlabel('Log 2 of #dof')"
   ]
  },
  {
   "cell_type": "markdown",
   "metadata": {},
   "source": [
    "Unimportant:\n",
    "plot the mesh on the representer figures\n",
    "figure labels on the graph lines (in latex)\n",
    "\n",
    "reparam-invariance\n",
    "    smooth reparam\n",
    "    randomize\n",
    "    \n",
    "important:\n",
    "decide what to actually show\n",
    "what comparison with matlab?\n",
    "\n",
    "same random shapes as previously (note same rng in matlab and python)\n",
    "\n",
    "2 random relatively similar shapes with lots of noisy versions (increasing noise) and show distance\n",
    "\n",
    "reproduce Qiu & Glaunes shape figure (8) (pre-registered for similarity)\n",
    "\n",
    "turn circle into square to see if corners have an effect"
   ]
  },
  {
   "cell_type": "code",
   "execution_count": null,
   "metadata": {},
   "outputs": [],
   "source": [
    "error[1:,0,0]-error[:7,0,0]"
   ]
  },
  {
   "cell_type": "code",
   "execution_count": null,
   "metadata": {
    "collapsed": true
   },
   "outputs": [],
   "source": []
  },
  {
   "cell_type": "code",
   "execution_count": null,
   "metadata": {},
   "outputs": [],
   "source": []
  }
 ],
 "metadata": {
  "kernelspec": {
   "display_name": "Python 3",
   "language": "python",
   "name": "python3"
  },
  "language_info": {
   "codemirror_mode": {
    "name": "ipython",
    "version": 3
   },
   "file_extension": ".py",
   "mimetype": "text/x-python",
   "name": "python",
   "nbconvert_exporter": "python",
   "pygments_lexer": "ipython3",
   "version": "3.6.6"
  }
 },
 "nbformat": 4,
 "nbformat_minor": 2
}
