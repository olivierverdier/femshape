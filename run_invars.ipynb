{
 "cells": [
  {
   "cell_type": "code",
   "execution_count": null,
   "metadata": {},
   "outputs": [],
   "source": [
    "%run femshape\n",
    "import numpy as np\n",
    "import matplotlib.pyplot as pl"
   ]
  },
  {
   "cell_type": "code",
   "execution_count": null,
   "metadata": {},
   "outputs": [],
   "source": [
    "%matplotlib inline"
   ]
  },
  {
   "cell_type": "code",
   "execution_count": null,
   "metadata": {},
   "outputs": [],
   "source": [
    "%run utils"
   ]
  },
  {
   "cell_type": "code",
   "execution_count": null,
   "metadata": {},
   "outputs": [],
   "source": [
    "#scale = 1/np.sqrt(10)\n",
    "scale = 1/10"
   ]
  },
  {
   "cell_type": "markdown",
   "metadata": {},
   "source": [
    "## Compute representers for various orders and mesh sizes."
   ]
  },
  {
   "cell_type": "code",
   "execution_count": null,
   "metadata": {},
   "outputs": [],
   "source": [
    "%%time\n",
    "n = 5000\n",
    "# Circle\n",
    "#t=np.linspace(0,2*np.pi,n,endpoint=False)\n",
    "#gamma1 = np.vstack((0.5*np.cos(t),0.5*np.sin(t))).T  \n",
    "gamma1 = figure_of_eight(n).T\n",
    "reps = [[Representer(Current(Space(order=o+1, meshsize=m,L=1), gamma1), scale=scale) for o in range(4)] for m in 2**np.arange(8)]\n",
    "areps = np.array(reps)"
   ]
  },
  {
   "cell_type": "markdown",
   "metadata": {},
   "source": [
    "Plot one of the representer."
   ]
  },
  {
   "cell_type": "code",
   "execution_count": null,
   "metadata": {},
   "outputs": [],
   "source": [
    "areps.shape"
   ]
  },
  {
   "cell_type": "code",
   "execution_count": null,
   "metadata": {},
   "outputs": [],
   "source": [
    "order = 3\n",
    "log2mesh = 1\n",
    "pl.figure(figsize=(10,8))\n",
    "plot_representer(areps[log2mesh,order-1])\n",
    "plt.title(\"$\\log_2$ meshsize: {} - Order: {}\".format(log2mesh, order))"
   ]
  },
  {
   "cell_type": "markdown",
   "metadata": {},
   "source": [
    "Fetch the $H_1$ and $H_2$ norms for each representer."
   ]
  },
  {
   "cell_type": "code",
   "execution_count": null,
   "metadata": {},
   "outputs": [],
   "source": [
    "import operator"
   ]
  },
  {
   "cell_type": "code",
   "execution_count": null,
   "metadata": {},
   "outputs": [],
   "source": [
    "error = np.stack([np.vectorize(operator.attrgetter(attr))(areps) for attr in ['H1_sq_norm', 'H2_sq_norm']], axis=-1)"
   ]
  },
  {
   "cell_type": "code",
   "execution_count": null,
   "metadata": {},
   "outputs": [],
   "source": [
    "error[0,0,0]"
   ]
  },
  {
   "cell_type": "markdown",
   "metadata": {},
   "source": [
    "## Log plots of the errors"
   ]
  },
  {
   "cell_type": "code",
   "execution_count": null,
   "metadata": {},
   "outputs": [],
   "source": [
    "def order_format(i):\n",
    "    return \"order {}\".format(i+1)"
   ]
  },
  {
   "cell_type": "markdown",
   "metadata": {},
   "source": [
    "First, plot the square of the $H_1$ and $H_2$ norms depending on the order and mesh size."
   ]
  },
  {
   "cell_type": "code",
   "execution_count": null,
   "metadata": {},
   "outputs": [],
   "source": [
    "pl.figure(figsize=(16,5))\n",
    "for i, title in enumerate(['H1', 'H2']):\n",
    "    plt.subplot(1,2,i+1)\n",
    "    for j in range(4):\n",
    "        pl.plot(range(8),error[:,j,i], '.-', lw=2, label=order_format(j))\n",
    "    pl.grid(alpha=.5)\n",
    "    pl.legend()\n",
    "    pl.title(title)\n",
    "    pl.ylabel('square norm')\n",
    "    pl.xlabel('Log 2 of #dof')\n",
    "    "
   ]
  },
  {
   "cell_type": "code",
   "execution_count": null,
   "metadata": {},
   "outputs": [],
   "source": [
    "def log2_dof(order):\n",
    "    return np.log2((order+2)*(order+3)/6.0)+range(0,14,2)"
   ]
  },
  {
   "cell_type": "code",
   "execution_count": null,
   "metadata": {},
   "outputs": [],
   "source": [
    "pl.figure(figsize=(12,7))\n",
    "for j in range(2):\n",
    "    for i in range(4):\n",
    "        pl.plot(log2_dof(i),np.log2(error[1:,i,j] - error[:7,i,j]), lw=[2,3][j], marker='.', ls=['-.','-'][j], label=\"H{} {}\".format(j+1, order_format(i)))\n",
    "pl.legend()\n",
    "pl.grid(alpha=.5)\n",
    "pl.ylabel('Log 2 of error')\n",
    "pl.xlabel('Log 2 of #dof')\n",
    "pl.title('square norm error depending on mesh size and order')"
   ]
  },
  {
   "cell_type": "code",
   "execution_count": null,
   "metadata": {},
   "outputs": [],
   "source": [
    "error[1:,0,0]-error[:7,0,0]"
   ]
  }
 ],
 "metadata": {
  "kernelspec": {
   "display_name": "Python 3",
   "language": "python",
   "name": "python3"
  },
  "language_info": {
   "codemirror_mode": {
    "name": "ipython",
    "version": 3
   },
   "file_extension": ".py",
   "mimetype": "text/x-python",
   "name": "python",
   "nbconvert_exporter": "python",
   "pygments_lexer": "ipython3",
   "version": "3.6.6"
  }
 },
 "nbformat": 4,
 "nbformat_minor": 2
}
