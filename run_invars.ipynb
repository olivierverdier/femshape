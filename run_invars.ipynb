{
 "cells": [
  {
   "cell_type": "code",
   "execution_count": null,
   "metadata": {},
   "outputs": [],
   "source": [
    "%run femshape\n",
    "import numpy as np\n",
    "import matplotlib.pyplot as pl"
   ]
  },
  {
   "cell_type": "code",
   "execution_count": null,
   "metadata": {},
   "outputs": [],
   "source": [
    "%matplotlib inline"
   ]
  },
  {
   "cell_type": "code",
   "execution_count": null,
   "metadata": {},
   "outputs": [],
   "source": [
    "%run utils"
   ]
  },
  {
   "cell_type": "code",
   "execution_count": null,
   "metadata": {},
   "outputs": [],
   "source": [
    "#scale = 1/np.sqrt(10)\n",
    "scale = 1/10"
   ]
  },
  {
   "cell_type": "code",
   "execution_count": null,
   "metadata": {},
   "outputs": [],
   "source": [
    "%%time\n",
    "n = 5000\n",
    "# Circle\n",
    "#t=np.linspace(0,2*np.pi,n,endpoint=False)\n",
    "#gamma1 = np.vstack((0.5*np.cos(t),0.5*np.sin(t))).T  \n",
    "gamma1 = figure_of_eight(n).T\n",
    "reps = [[Representer(Current(Space(order=o+1, meshsize=m,L=1), gamma1), scale=scale) for o in range(4)] for m in 2**np.arange(8)]\n",
    "areps = np.array(reps)"
   ]
  },
  {
   "cell_type": "code",
   "execution_count": null,
   "metadata": {},
   "outputs": [],
   "source": [
    "pl.figure(figsize=(10,8))\n",
    "plot_representer(areps[2,3])"
   ]
  },
  {
   "cell_type": "code",
   "execution_count": null,
   "metadata": {},
   "outputs": [],
   "source": [
    "import operator"
   ]
  },
  {
   "cell_type": "code",
   "execution_count": null,
   "metadata": {},
   "outputs": [],
   "source": [
    "error = np.stack([np.vectorize(operator.attrgetter(attr))(areps) for attr in ['H1_sq_norm', 'H2_sq_norm']], axis=-1)"
   ]
  },
  {
   "cell_type": "code",
   "execution_count": null,
   "metadata": {},
   "outputs": [],
   "source": [
    "fig = pl.figure()\n",
    "pl.title('a'+str(error[0,0,0]))\n",
    "pl.plot([1,2],[2,3])"
   ]
  },
  {
   "cell_type": "code",
   "execution_count": null,
   "metadata": {},
   "outputs": [],
   "source": [
    "def order_format(i):\n",
    "    return \"order {}\".format(i+1)"
   ]
  },
  {
   "cell_type": "code",
   "execution_count": null,
   "metadata": {},
   "outputs": [],
   "source": [
    "pl.figure()\n",
    "for i in range(4):\n",
    "    pl.plot(range(8),error[:,i,0], label=order_format(i))\n",
    "pl.legend()\n",
    "pl.title('H1')\n",
    "\n",
    "pl.figure()\n",
    "for i in range(4):\n",
    "    pl.plot(range(8),error[:,i,1], label=order_format(i))\n",
    "pl.legend()\n",
    "pl.title('H2')\n",
    "    \n",
    "pl.figure()\n",
    "pl.plot(range(7),np.log2(error[1:,:,0] - error[:7,:,0]),'b--')\n",
    "pl.plot(range(7),np.log2(error[1:,:,1] - error[:7,:,1]),color='r')\n",
    "    "
   ]
  },
  {
   "cell_type": "code",
   "execution_count": null,
   "metadata": {},
   "outputs": [],
   "source": [
    "pl.figure()\n",
    "for i in range(4):\n",
    "    pl.plot(np.log2((i+2)*(i+3)/6.0)+range(0,14,2),np.log2(error[1:,i,0] - error[:7,i,0]), label=order_format(i))\n",
    "pl.legend()\n",
    "pl.title('H1')\n",
    "pl.grid(alpha=.5)\n",
    "pl.xlabel('Log 2 of #dof')\n",
    "\n",
    "pl.figure()\n",
    "for i in range(4):\n",
    "    pl.plot(np.log2((i+2)*(i+3)/6.0)+range(0,14,2),np.log2(error[1:,i,1] - error[:7,i,1]), label=order_format(i))\n",
    "pl.legend()\n",
    "pl.title('H2')\n",
    "pl.grid(alpha=.5)\n",
    "pl.xlabel('Log 2 of #dof')"
   ]
  },
  {
   "cell_type": "code",
   "execution_count": null,
   "metadata": {},
   "outputs": [],
   "source": [
    "error[1:,0,0]-error[:7,0,0]"
   ]
  }
 ],
 "metadata": {
  "kernelspec": {
   "display_name": "Python 3",
   "language": "python",
   "name": "python3"
  },
  "language_info": {
   "codemirror_mode": {
    "name": "ipython",
    "version": 3
   },
   "file_extension": ".py",
   "mimetype": "text/x-python",
   "name": "python",
   "nbconvert_exporter": "python",
   "pygments_lexer": "ipython3",
   "version": "3.6.6"
  }
 },
 "nbformat": 4,
 "nbformat_minor": 2
}
