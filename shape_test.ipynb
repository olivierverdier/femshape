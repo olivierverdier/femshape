{
 "cells": [
  {
   "cell_type": "code",
   "execution_count": null,
   "metadata": {
    "collapsed": false
   },
   "outputs": [],
   "source": [
    "%run femshape\n",
    "import matplotlib.pyplot as plt\n",
    "import numpy as np\n",
    "from numpy import cos, sin, pi\n",
    "from numpy.linalg import norm"
   ]
  },
  {
   "cell_type": "markdown",
   "metadata": {},
   "source": [
    "## Create some planar curves"
   ]
  },
  {
   "cell_type": "code",
   "execution_count": null,
   "metadata": {
    "collapsed": false
   },
   "outputs": [],
   "source": [
    "n = 20000\n",
    "t = np.linspace(0,2*pi,n,endpoint=False)\n",
    "gamma1_highres = np.vstack((0.9*cos(t),0.4*sin(t))).T\n",
    "\n",
    "n = 1000\n",
    "t = np.linspace(0,2*pi,n,endpoint=False)\n",
    "gamma1_lowres = np.vstack((0.9*cos(t),0.4*sin(t))).T\n",
    "\n",
    "n = 5000\n",
    "t = np.linspace(0,2*np.pi,n,endpoint=False)\n",
    "gamma1 = np.vstack((0.9*cos(t),0.4*sin(t))).T\n",
    "\n",
    "gamma1_repar1 = np.roll(gamma1,n//4,axis=0)\n",
    "gamma1_repar2 = np.vstack((0.9*cos(t+pi/2),0.4*sin(t+pi/2))).T\n",
    "gamma1_repar3 = np.vstack((0.9*cos(t+0.01*sin(3*t)),0.4*sin(t+0.01*sin(3*t)))).T\n",
    "\n",
    "reg_pert = np.vstack((cos(6*t),sin(7*t))).T\n",
    "rand_pert = np.random.randn(n,2)\n",
    "\n",
    "gamma2 = np.vstack((0.7*cos(t),0.7*sin(t))).T\n",
    "\n",
    "plt.plot(gamma1[:,0],gamma1[:,1],gamma2[:,0],gamma2[:,1])\n",
    "plt.axis('equal')"
   ]
  },
  {
   "cell_type": "markdown",
   "metadata": {},
   "source": [
    "## Create the invariants calculation object"
   ]
  },
  {
   "cell_type": "code",
   "execution_count": null,
   "metadata": {
    "collapsed": false
   },
   "outputs": [],
   "source": [
    "space = Space(order=2, meshsize=64)"
   ]
  },
  {
   "cell_type": "markdown",
   "metadata": {},
   "source": [
    "## Compute the invariants"
   ]
  },
  {
   "cell_type": "code",
   "execution_count": null,
   "metadata": {},
   "outputs": [],
   "source": [
    "curves = [gamma1, gamma2, gamma1_repar1, gamma1_repar2, gamma1_repar3, gamma1_highres, gamma1_lowres]\n",
    "curve_invariants = [CurveInvariant(space, curve) for curve in curves]"
   ]
  },
  {
   "cell_type": "markdown",
   "metadata": {},
   "source": [
    "## Compute relative errors of perturbations"
   ]
  },
  {
   "cell_type": "markdown",
   "metadata": {},
   "source": [
    "### Check approximate invariance under reparameterization"
   ]
  },
  {
   "cell_type": "code",
   "execution_count": null,
   "metadata": {},
   "outputs": [],
   "source": [
    "inv1, inv2, inv1_repar1, inv1_repar2, inv1_repar3, inv1_highres, inv1_lowres = [ci.invariants for ci in curve_invariants]"
   ]
  },
  {
   "cell_type": "code",
   "execution_count": null,
   "metadata": {
    "collapsed": false
   },
   "outputs": [],
   "source": [
    "print(\"Relative norm between invariants for gamma1 and gamma2 is %.4e\"%(norm(inv1-inv2)/norm(inv1)))\n",
    "print(\"Relative norm between invariants for gamma1 and gamma1_repar1 is %.4e\"%(norm(inv1-inv1_repar1)/norm(inv1)))\n",
    "print(\"Relative norm between invariants for gamma1 and gamma1_repar2 is %.4e\"%(norm(inv1-inv1_repar2)/norm(inv1)))\n",
    "print(\"Relative norm between invariants for gamma1 and gamma1_repar3 is %.4e\"%(norm(inv1-inv1_repar3)/norm(inv1)))\n",
    "print(\"Relative norm between invariants for gamma1 and gamma1_highres is %.4e\"%(norm(inv1-inv1_highres)/norm(inv1)))\n",
    "print(\"Relative norm between invariants for gamma1 and gamma1_lowres is %.4e\"%(norm(inv1-inv1_lowres)/norm(inv1)))"
   ]
  },
  {
   "cell_type": "markdown",
   "metadata": {},
   "source": [
    "### Check sensitivity w.r.t. perturbations"
   ]
  },
  {
   "cell_type": "code",
   "execution_count": null,
   "metadata": {},
   "outputs": [],
   "source": [
    "errvec_reg = []\n",
    "errvec_rand = []\n",
    "epsvec = np.logspace(-8,-1,10)\n",
    "for epsilon in epsvec:\n",
    "    errvec_reg.append(norm(inv1-CurveInvariant(space, gamma1+epsilon*reg_pert).invariants)/norm(inv1))\n",
    "    errvec_rand.append(norm(inv1-CurveInvariant(space, gamma1+epsilon*rand_pert).invariants)/norm(inv1))\n",
    "    #print(errvec[-1])"
   ]
  },
  {
   "cell_type": "code",
   "execution_count": null,
   "metadata": {
    "collapsed": false
   },
   "outputs": [],
   "source": [
    "plt.loglog(epsvec,errvec_reg,epsvec,errvec_rand,epsvec,epsvec)\n",
    "plt.xlabel('epsilon')\n",
    "plt.ylabel('relative error')\n",
    "plt.legend(('regular pert','random pert','linear growth'),loc='upper left')"
   ]
  },
  {
   "cell_type": "markdown",
   "metadata": {},
   "source": [
    "### Relative errors for other function spaces"
   ]
  },
  {
   "cell_type": "code",
   "execution_count": null,
   "metadata": {
    "collapsed": false
   },
   "outputs": [],
   "source": [
    "shapecalc_loword = Space(order=1, meshsize=64)\n",
    "shapecalc_highord = Space(order=8, meshsize=64)\n",
    "shapecalc_fine = Space(order=2, meshsize=256)\n",
    "shapecalc_rough = Space(order=8, meshsize=8)"
   ]
  },
  {
   "cell_type": "code",
   "execution_count": null,
   "metadata": {
    "collapsed": false
   },
   "outputs": [],
   "source": [
    "calc = shapecalc_rough\n",
    "inv11 = CurveInvariant(calc, gamma1).invariants\n",
    "errvec2_reg = []\n",
    "errvec2_rand = []\n",
    "epsvec2 = np.logspace(-8,-1,10)\n",
    "for epsilon in epsvec2:\n",
    "    errvec2_reg.append(norm(inv11-CurveInvariant(calc, gamma1+epsilon*reg_pert).invariants)/norm(inv11))\n",
    "#     print(errvec2_reg[-1])\n",
    "plt.loglog(epsvec2,errvec2_reg,epsvec2,epsvec2)\n",
    "plt.xlabel('epsilon')\n",
    "plt.ylabel('relative error')\n",
    "plt.legend(('regular pert','linear growth'),loc='upper left')"
   ]
  },
  {
   "cell_type": "code",
   "execution_count": null,
   "metadata": {
    "collapsed": false
   },
   "outputs": [],
   "source": [
    "calc.V.dim()"
   ]
  },
  {
   "cell_type": "markdown",
   "metadata": {},
   "source": [
    "## Visualize the invariants through FEniCS functions"
   ]
  },
  {
   "cell_type": "code",
   "execution_count": null,
   "metadata": {
    "collapsed": false
   },
   "outputs": [],
   "source": [
    "calc = shapecalc_loword\n",
    "ci = CurveInvariant(calc, gamma1)\n",
    "(xmat,ymat) = ci.matrix_representation(size=256)\n",
    "plt.imshow(xmat)"
   ]
  },
  {
   "cell_type": "code",
   "execution_count": null,
   "metadata": {
    "collapsed": false
   },
   "outputs": [],
   "source": [
    "plt.imshow(ymat)"
   ]
  },
  {
   "cell_type": "code",
   "execution_count": null,
   "metadata": {
    "collapsed": false
   },
   "outputs": [],
   "source": []
  }
 ],
 "metadata": {
  "kernelspec": {
   "display_name": "Python 3",
   "language": "python",
   "name": "python3"
  },
  "language_info": {
   "codemirror_mode": {
    "name": "ipython",
    "version": 3
   },
   "file_extension": ".py",
   "mimetype": "text/x-python",
   "name": "python",
   "nbconvert_exporter": "python",
   "pygments_lexer": "ipython3",
   "version": "3.6.6"
  }
 },
 "nbformat": 4,
 "nbformat_minor": 2
}
