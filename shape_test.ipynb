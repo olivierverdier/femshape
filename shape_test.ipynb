{
 "cells": [
  {
   "cell_type": "code",
   "execution_count": null,
   "metadata": {
    "collapsed": false
   },
   "outputs": [],
   "source": [
    "%run femshape\n",
    "import matplotlib.pyplot as plt\n",
    "import numpy as np\n",
    "from numpy import cos, sin, pi\n",
    "from numpy.linalg import norm"
   ]
  },
  {
   "cell_type": "markdown",
   "metadata": {},
   "source": [
    "## Create some planar curves"
   ]
  },
  {
   "cell_type": "code",
   "execution_count": null,
   "metadata": {
    "collapsed": false
   },
   "outputs": [],
   "source": [
    "n = 20000\n",
    "t = np.linspace(0,2*pi,n,endpoint=False)\n",
    "gamma1_highres = np.vstack((0.9*cos(t),0.4*sin(t))).T\n",
    "\n",
    "n = 1000\n",
    "t = np.linspace(0,2*pi,n,endpoint=False)\n",
    "gamma1_lowres = np.vstack((0.9*cos(t),0.4*sin(t))).T\n",
    "\n",
    "n = 5000\n",
    "t = np.linspace(0,2*np.pi,n,endpoint=False)\n",
    "gamma1 = np.vstack((0.9*cos(t),0.4*sin(t))).T\n",
    "\n",
    "gamma1_repar1 = np.roll(gamma1,n//4,axis=0)\n",
    "gamma1_repar2 = np.vstack((0.9*cos(t+pi/2),0.4*sin(t+pi/2))).T\n",
    "gamma1_repar3 = np.vstack((0.9*cos(t+0.01*sin(3*t)),0.4*sin(t+0.01*sin(3*t)))).T\n",
    "\n",
    "reg_pert = np.vstack((cos(6*t),sin(7*t))).T\n",
    "rand_pert = np.random.randn(n,2)\n",
    "\n",
    "gamma2 = np.vstack((0.7*cos(t),0.7*sin(t))).T\n",
    "\n",
    "for gamma in [gamma1, gamma2]:\n",
    "    plt.plot(gamma[:,0],gamma[:,1], lw=3)\n",
    "plt.grid(alpha=.5)\n",
    "plt.axis('equal')"
   ]
  },
  {
   "cell_type": "markdown",
   "metadata": {},
   "source": [
    "## Create the space"
   ]
  },
  {
   "cell_type": "code",
   "execution_count": null,
   "metadata": {
    "collapsed": false
   },
   "outputs": [],
   "source": [
    "space = Space(order=2, meshsize=64)"
   ]
  },
  {
   "cell_type": "markdown",
   "metadata": {},
   "source": [
    "## Compute the invariants"
   ]
  },
  {
   "cell_type": "code",
   "execution_count": null,
   "metadata": {},
   "outputs": [],
   "source": [
    "%%time\n",
    "curves = [gamma1, gamma2, gamma1_repar1, gamma1_repar2, gamma1_repar3, gamma1_highres, gamma1_lowres]\n",
    "currents = [Current(space, curve) for curve in curves]"
   ]
  },
  {
   "cell_type": "markdown",
   "metadata": {},
   "source": [
    "For visualisation, we also compute representers."
   ]
  },
  {
   "cell_type": "code",
   "execution_count": null,
   "metadata": {},
   "outputs": [],
   "source": [
    "%%time\n",
    "reps = [Representer(current, scale=1/10) for current in currents]"
   ]
  },
  {
   "cell_type": "markdown",
   "metadata": {},
   "source": [
    "## Compute relative errors of perturbations"
   ]
  },
  {
   "cell_type": "markdown",
   "metadata": {},
   "source": [
    "General utility function to compare relative difference of invariants."
   ]
  },
  {
   "cell_type": "code",
   "execution_count": null,
   "metadata": {},
   "outputs": [],
   "source": [
    "def rel_inv_diff(current, inv):\n",
    "    return norm(inv - current.invariants)/norm(inv)"
   ]
  },
  {
   "cell_type": "markdown",
   "metadata": {},
   "source": [
    "### Check approximate invariance under reparameterization"
   ]
  },
  {
   "cell_type": "code",
   "execution_count": null,
   "metadata": {},
   "outputs": [],
   "source": [
    "inv1 = currents[0].invariants"
   ]
  },
  {
   "cell_type": "code",
   "execution_count": null,
   "metadata": {},
   "outputs": [],
   "source": [
    "template = \"Relative norm between invariants for gamma1 and {} is {:.4e}\"\n",
    "for name, current in zip(['gamma2', 'gamma1_repar1', 'gamma1_repar2', 'gamma1_repar3', 'gamma1_highres', 'gamma1_lowres'], currents[1:]):\n",
    "    print(template.format(name, rel_inv_diff(current, inv1)))"
   ]
  },
  {
   "cell_type": "markdown",
   "metadata": {},
   "source": [
    "### Check sensitivity w.r.t. perturbations"
   ]
  },
  {
   "cell_type": "markdown",
   "metadata": {},
   "source": [
    "Copute currents and their invariants for two kinds of perturbations."
   ]
  },
  {
   "cell_type": "code",
   "execution_count": null,
   "metadata": {},
   "outputs": [],
   "source": [
    "%%time\n",
    "epsvec = np.logspace(-8,-1,10)\n",
    "\n",
    "reg_pert_currents,rand_pert_currents = [[Current(space, gamma1+epsilon*pert) \n",
    "                                         for epsilon in epsvec] for pert in [reg_pert, rand_pert]]\n",
    "\n",
    "errvec_reg, errvec_rand = [[rel_inv_diff(current, inv1) for current in current_list] \n",
    "                           for current_list in [reg_pert_currents, rand_pert_currents]]"
   ]
  },
  {
   "cell_type": "markdown",
   "metadata": {},
   "source": [
    "For visualisation, we also compute the representers."
   ]
  },
  {
   "cell_type": "code",
   "execution_count": null,
   "metadata": {},
   "outputs": [],
   "source": [
    "%%time\n",
    "reg_reps, rand_reps = [[Representer(current, scale=1/10) for current in current_list] \n",
    "                       for current_list in [reg_pert_currents, rand_pert_currents]]"
   ]
  },
  {
   "cell_type": "code",
   "execution_count": null,
   "metadata": {},
   "outputs": [],
   "source": [
    "plt.figure(figsize=(16,8))\n",
    "M = 3\n",
    "for i,reps in enumerate([reg_reps, rand_reps]):\n",
    "    for j, (rep, eps) in enumerate(zip(reps[-M:], epsvec)):\n",
    "        plt.subplot(2,M,M*i + j +1)\n",
    "        plt.title(\"eps = {:.0e}\".format(eps))\n",
    "        plot_representer(rep, size=16)"
   ]
  },
  {
   "cell_type": "code",
   "execution_count": null,
   "metadata": {},
   "outputs": [],
   "source": [
    "for s,d in [('regular pert', errvec_reg),\n",
    "           ('random pert', errvec_rand),]:\n",
    "    plt.loglog(epsvec, d, '.-', lw=2, label=s)\n",
    "plt.loglog(epsvec, epsvec, alpha=.5, color='k', lw=4, label='linear growth')\n",
    "plt.xlabel('epsilon')\n",
    "plt.ylabel('relative error')\n",
    "plt.grid(alpha=.5)\n",
    "plt.legend()"
   ]
  },
  {
   "cell_type": "markdown",
   "metadata": {},
   "source": [
    "### Relative errors for other function spaces"
   ]
  },
  {
   "cell_type": "code",
   "execution_count": null,
   "metadata": {
    "collapsed": false
   },
   "outputs": [],
   "source": [
    "shapecalc_loword = Space(order=1, meshsize=64)\n",
    "shapecalc_highord = Space(order=8, meshsize=64)\n",
    "shapecalc_fine = Space(order=2, meshsize=256)\n",
    "shapecalc_rough = Space(order=8, meshsize=8)"
   ]
  },
  {
   "cell_type": "code",
   "execution_count": null,
   "metadata": {},
   "outputs": [],
   "source": [
    "calc = shapecalc_rough\n",
    "inv11 = Current(calc, gamma1).invariants\n",
    "\n",
    "epsvec2 = np.logspace(-8,-1,10)\n",
    "\n",
    "reg_pert_currents2 = [Current(calc, gamma1+epsilon*reg_pert) for epsilon in epsvec2]\n",
    "errvec2_reg = [rel_inv_diff(current, inv11) for current in reg_pert_currents2]\n",
    "                                        \n"
   ]
  },
  {
   "cell_type": "code",
   "execution_count": null,
   "metadata": {},
   "outputs": [],
   "source": [
    "plt.loglog(epsvec2, errvec2_reg, '.-', lw=2, label='regular pert')\n",
    "plt.loglog(epsvec2, epsvec2, lw=4, color='k', alpha=.5, label='linear growth')\n",
    "plt.xlabel('epsilon')\n",
    "plt.ylabel('relative error')\n",
    "plt.grid(alpha=.5)\n",
    "plt.legend()"
   ]
  },
  {
   "cell_type": "code",
   "execution_count": null,
   "metadata": {
    "collapsed": false
   },
   "outputs": [],
   "source": [
    "calc.V.dim()"
   ]
  },
  {
   "cell_type": "markdown",
   "metadata": {},
   "source": [
    "## Visualize the invariants through FEniCS functions"
   ]
  },
  {
   "cell_type": "code",
   "execution_count": null,
   "metadata": {
    "collapsed": false
   },
   "outputs": [],
   "source": [
    "calc = shapecalc_loword\n",
    "cur = Current(calc, gamma1)\n",
    "(xx, yy, xmat,ymat) = cur.space.grid_evaluation(cur.invariant_dx, cur.invariant_dy, size=64)"
   ]
  },
  {
   "cell_type": "code",
   "execution_count": null,
   "metadata": {},
   "outputs": [],
   "source": [
    "plt.quiver(xx, yy, xmat, ymat)\n",
    "plt.axis('equal')"
   ]
  },
  {
   "cell_type": "code",
   "execution_count": null,
   "metadata": {
    "collapsed": false
   },
   "outputs": [],
   "source": [
    "zoomy = slice(0,10)\n",
    "zoomx = slice(32-10,32+10)\n",
    "plt.quiver(xx[zoomx, zoomy], yy[zoomx, zoomy], xmat[zoomx, zoomy], ymat[zoomx, zoomy])\n",
    "plt.axis('equal')"
   ]
  }
 ],
 "metadata": {
  "kernelspec": {
   "display_name": "Python 3",
   "language": "python",
   "name": "python3"
  },
  "language_info": {
   "codemirror_mode": {
    "name": "ipython",
    "version": 3
   },
   "file_extension": ".py",
   "mimetype": "text/x-python",
   "name": "python",
   "nbconvert_exporter": "python",
   "pygments_lexer": "ipython3",
   "version": "3.6.6"
  }
 },
 "nbformat": 4,
 "nbformat_minor": 2
}
