{
 "cells": [
  {
   "cell_type": "code",
   "execution_count": null,
   "metadata": {},
   "outputs": [],
   "source": [
    "import numpy as np\n",
    "import matplotlib.pyplot as pl\n",
    "import scipy.io as spi\n",
    "%matplotlib inline"
   ]
  },
  {
   "cell_type": "markdown",
   "metadata": {},
   "source": [
    "Functions for the monomials"
   ]
  },
  {
   "cell_type": "code",
   "execution_count": null,
   "metadata": {},
   "outputs": [],
   "source": [
    "%run monomials"
   ]
  },
  {
   "cell_type": "code",
   "execution_count": null,
   "metadata": {},
   "outputs": [],
   "source": [
    "%run pca"
   ]
  },
  {
   "cell_type": "markdown",
   "metadata": {},
   "source": [
    "## Get the representers from the FE code"
   ]
  },
  {
   "cell_type": "code",
   "execution_count": null,
   "metadata": {},
   "outputs": [],
   "source": [
    "%run femshape\n",
    "\n",
    "space = Space(order=4, meshsize=3,L=1)"
   ]
  },
  {
   "cell_type": "code",
   "execution_count": null,
   "metadata": {},
   "outputs": [],
   "source": [
    "%run utils"
   ]
  },
  {
   "cell_type": "markdown",
   "metadata": {},
   "source": [
    "Test 1: Construct 5 random variations of the circle and a figure of 8"
   ]
  },
  {
   "cell_type": "code",
   "execution_count": null,
   "metadata": {},
   "outputs": [],
   "source": [
    "npoints = 50\n",
    "ncurves = 10\n",
    "x = np.zeros((ncurves,npoints))\n",
    "y = np.zeros((ncurves,npoints))\n",
    "\n",
    "x[1:,:],y[1:,:] = randshapes(ncurves-1,npoints)\n",
    "\n",
    "x[0], y[0] = figure_of_eight(npoints)"
   ]
  },
  {
   "cell_type": "markdown",
   "metadata": {},
   "source": [
    "Using the finite elements"
   ]
  },
  {
   "cell_type": "code",
   "execution_count": null,
   "metadata": {},
   "outputs": [],
   "source": [
    "curves = np.stack([x,y], axis=-1)\n",
    "reps = [Representer(Current(space, curve)) for curve in curves]"
   ]
  },
  {
   "cell_type": "code",
   "execution_count": null,
   "metadata": {},
   "outputs": [],
   "source": [
    "def pca_data(representers, order=1):\n",
    "    uv = np.array([rep.get(order=order) for rep in representers])\n",
    "    pe = uv.reshape(len(representers),-1,order='F')\n",
    "    return pe"
   ]
  },
  {
   "cell_type": "code",
   "execution_count": null,
   "metadata": {},
   "outputs": [],
   "source": [
    "pe = pca_data(reps, 1)"
   ]
  },
  {
   "cell_type": "code",
   "execution_count": null,
   "metadata": {},
   "outputs": [],
   "source": [
    "pca = PCA(pe, x, y)"
   ]
  },
  {
   "cell_type": "code",
   "execution_count": null,
   "metadata": {},
   "outputs": [],
   "source": [
    "plt.figure(figsize=(8,8))\n",
    "pca.plot(scaling=1)\n",
    "plt.axis('equal');"
   ]
  },
  {
   "cell_type": "markdown",
   "metadata": {},
   "source": [
    "Using the monomials"
   ]
  },
  {
   "cell_type": "code",
   "execution_count": null,
   "metadata": {},
   "outputs": [],
   "source": [
    "cl = (npoints-1)*np.ones((1,ncurves),dtype=int)\n",
    "u = representer(x,y,ncurves,cl,npoints,10)\n",
    "u1 = np.zeros((ncurves,np.shape(u)[1]*np.shape(u)[2]*2))\n",
    "for i in range(ncurves):\n",
    "    u1[i,:] = np.matrix.flatten(u[i,:,:,:])"
   ]
  },
  {
   "cell_type": "code",
   "execution_count": null,
   "metadata": {},
   "outputs": [],
   "source": [
    "pca = PCA(u1, x, y)"
   ]
  },
  {
   "cell_type": "code",
   "execution_count": null,
   "metadata": {},
   "outputs": [],
   "source": [
    "pca.plot(scaling=.01)"
   ]
  },
  {
   "cell_type": "markdown",
   "metadata": {},
   "source": [
    "Save a load of data into matlab file for easy comparison"
   ]
  },
  {
   "cell_type": "code",
   "execution_count": null,
   "metadata": {},
   "outputs": [],
   "source": [
    "import scipy.io as spi\n",
    "ncurves = 200\n",
    "npoints = 500\n",
    "x,y = randshapes(ncurves,npoints)\n",
    "spi.savemat('currents_data_200_500.mat',{'x':x,'y':y})"
   ]
  },
  {
   "cell_type": "code",
   "execution_count": null,
   "metadata": {},
   "outputs": [],
   "source": [
    "def load_data(name, ncurves):\n",
    "    data = spi.loadmat(name)\n",
    "    x = data['x']\n",
    "    y = data['y']\n",
    "    x = x[:ncurves,:]\n",
    "    y = y[:ncurves,:]\n",
    "    return x, y"
   ]
  },
  {
   "cell_type": "markdown",
   "metadata": {},
   "source": [
    "PCA on the representer space, not Euclidean space"
   ]
  },
  {
   "cell_type": "code",
   "execution_count": null,
   "metadata": {},
   "outputs": [],
   "source": [
    "x, y = load_data('currents_data_200_500.mat', 32)"
   ]
  },
  {
   "cell_type": "code",
   "execution_count": null,
   "metadata": {},
   "outputs": [],
   "source": [
    "curves = np.stack([x,y], axis=-1)\n",
    "reps = [Representer(Current(space, curve)) for curve in curves]"
   ]
  },
  {
   "cell_type": "code",
   "execution_count": null,
   "metadata": {},
   "outputs": [],
   "source": [
    "pe = pca_data(reps)"
   ]
  },
  {
   "cell_type": "code",
   "execution_count": null,
   "metadata": {},
   "outputs": [],
   "source": [
    "pca = PCA(pe, x, y)"
   ]
  },
  {
   "cell_type": "code",
   "execution_count": null,
   "metadata": {},
   "outputs": [],
   "source": [
    "plt.figure(figsize=(8,8))\n",
    "pca.plot(scaling=2)\n",
    "plt.axis('equal')"
   ]
  },
  {
   "cell_type": "code",
   "execution_count": null,
   "metadata": {},
   "outputs": [],
   "source": [
    "pca_opt(pca, scaling=2)"
   ]
  },
  {
   "cell_type": "markdown",
   "metadata": {},
   "source": [
    "With the monomials:"
   ]
  },
  {
   "cell_type": "code",
   "execution_count": null,
   "metadata": {},
   "outputs": [],
   "source": [
    "ncurves, npoints = x.shape\n",
    "cl = (npoints-1)*np.ones((1,ncurves),dtype=int)\n",
    "u = representer(x,y,ncurves,cl,npoints,10)\n",
    "u1 = np.zeros((ncurves,np.shape(u)[1]*np.shape(u)[2]*2))\n",
    "for i in range(ncurves):\n",
    "    u1[i,:] = np.matrix.flatten(u[i,:,:,:])"
   ]
  },
  {
   "cell_type": "code",
   "execution_count": null,
   "metadata": {},
   "outputs": [],
   "source": [
    "pca = PCA(u1, x, y)"
   ]
  },
  {
   "cell_type": "code",
   "execution_count": null,
   "metadata": {},
   "outputs": [],
   "source": [
    "pca.plot(scaling=.01)"
   ]
  },
  {
   "cell_type": "code",
   "execution_count": null,
   "metadata": {},
   "outputs": [],
   "source": [
    "x, y = load_data('currents_data_200_500.mat', 32)"
   ]
  },
  {
   "cell_type": "code",
   "execution_count": null,
   "metadata": {},
   "outputs": [],
   "source": [
    "pe = monomial_current_pca(x, y, 10)\n",
    "pca = PCA(pe, x, y)\n",
    "plt.figure(figsize=(8,8))\n",
    "pca.plot(scaling=20)\n",
    "plt.axis('equal');"
   ]
  },
  {
   "cell_type": "code",
   "execution_count": null,
   "metadata": {},
   "outputs": [],
   "source": [
    "pca_opt(pca, scaling=20)"
   ]
  },
  {
   "cell_type": "code",
   "execution_count": null,
   "metadata": {},
   "outputs": [],
   "source": [
    "curves = np.stack([x,y], axis=-1)\n",
    "currents = [Current(space, curve) for curve in curves]"
   ]
  },
  {
   "cell_type": "code",
   "execution_count": null,
   "metadata": {
    "scrolled": false
   },
   "outputs": [],
   "source": [
    "pe = fem_current_pca(currents, x, y)"
   ]
  },
  {
   "cell_type": "code",
   "execution_count": null,
   "metadata": {},
   "outputs": [],
   "source": [
    "pca = PCA(pe, x, y)"
   ]
  },
  {
   "cell_type": "code",
   "execution_count": null,
   "metadata": {},
   "outputs": [],
   "source": [
    "pca.plot(scaling=6)"
   ]
  },
  {
   "cell_type": "code",
   "execution_count": null,
   "metadata": {
    "scrolled": false
   },
   "outputs": [],
   "source": [
    "pca_opt(pca, scaling=8)"
   ]
  },
  {
   "cell_type": "markdown",
   "metadata": {},
   "source": [
    "d(0,1), d(0,2), d(0,3)\n",
    "order 1, mesh = 10, 20, 40\n",
    "(2.2949783713748606, 2.4006275209345507, 2.2316118057013319)\n",
    "(1.6047046605854045, 1.6207933275335604, 1.6825498540372308)\n",
    "(1.2664142928892494, 1.2783837142622918, 1.3259963291001282)\n",
    "\n",
    "order 4, mesh = 5, 10, 20\n",
    "(2.2997301392640863, 2.2460204102017722, 2.2746276352501957)\n",
    "(1.7498901419675774, 1.7855146077354773, 1.7592703776709591)\n",
    "\n",
    "d(0,1), d(0,2), d(1,2)\n",
    "order 4, mesh = 5, 10, 20\n",
    "(2.7899967862469111, 2.8270892665201925, 0.8246409669811765)\n",
    "(2.8852668644254802, 2.9246305575121454, 1.0339455136119406)\n",
    "(2.9389698376057898, 2.9713066427066308, 1.1315582359980916)"
   ]
  },
  {
   "cell_type": "code",
   "execution_count": null,
   "metadata": {},
   "outputs": [],
   "source": []
  }
 ],
 "metadata": {
  "kernelspec": {
   "display_name": "Python 3",
   "language": "python",
   "name": "python3"
  },
  "language_info": {
   "codemirror_mode": {
    "name": "ipython",
    "version": 3
   },
   "file_extension": ".py",
   "mimetype": "text/x-python",
   "name": "python",
   "nbconvert_exporter": "python",
   "pygments_lexer": "ipython3",
   "version": "3.6.6"
  }
 },
 "nbformat": 4,
 "nbformat_minor": 2
}
