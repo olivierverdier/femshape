{
 "cells": [
  {
   "cell_type": "code",
   "execution_count": null,
   "metadata": {},
   "outputs": [],
   "source": [
    "import numpy as np\n",
    "import matplotlib.pyplot as pl\n",
    "import scipy.io as spi\n",
    "%matplotlib inline"
   ]
  },
  {
   "cell_type": "markdown",
   "metadata": {},
   "source": [
    "Functions for the monomials"
   ]
  },
  {
   "cell_type": "code",
   "execution_count": null,
   "metadata": {},
   "outputs": [],
   "source": [
    "%run monomials"
   ]
  },
  {
   "cell_type": "markdown",
   "metadata": {},
   "source": [
    "## Get the representers from the FE code"
   ]
  },
  {
   "cell_type": "code",
   "execution_count": null,
   "metadata": {},
   "outputs": [],
   "source": [
    "%run femshape\n",
    "\n",
    "space = Space(order=4, meshsize=3,L=1)\n",
    "\n",
    "def rep_fem(x,y):\n",
    "    Uret = []\n",
    "    Vret = []\n",
    "    H1ret = []\n",
    "    H2ret = []\n",
    "    Mret = []\n",
    "    dxret = []\n",
    "    dyret = []\n",
    "    for count in range(np.shape(x)[0]):\n",
    "        curve = np.vstack((x[count,:],y[count,:])).T\n",
    "        current = Current(space, curve)\n",
    "#        inv1 = shapecalc.compute_invariants(closed=True)\n",
    "        representer = Representer(current)\n",
    "        #U, V, H1, H2, M, invx, invy = current.calcM(ret_inv=True)\n",
    "        U, V, H1, H2, M, invx, invy = (representer.H1x.vector()[:],\n",
    "                                       representer.H1y.vector()[:],\n",
    "                                       representer.H1,\n",
    "                                       representer.H2,\n",
    "                                       representer.M.array(),\n",
    "                                       current.invariants[:,0],\n",
    "                                       current.invariants[:,1],\n",
    "                                      )\n",
    "        Uret.append(U)\n",
    "        Vret.append(V)\n",
    "        H1ret.append(H1)\n",
    "        H2ret.append(H2)\n",
    "        Mret.append(M)\n",
    "        dxret.append(invx)\n",
    "        dyret.append(invy)\n",
    "        #U[:,count], V[:,count], H1[count], H2[count] = shapecalc.calcM()\n",
    "    return np.squeeze(np.array(Uret)), np.squeeze(np.array(Vret)), np.array(H1ret), np.array(H2ret), np.array(Mret), np.array(dxret), np.array(dyret)"
   ]
  },
  {
   "cell_type": "code",
   "execution_count": null,
   "metadata": {},
   "outputs": [],
   "source": [
    "%run utils"
   ]
  },
  {
   "cell_type": "code",
   "execution_count": null,
   "metadata": {},
   "outputs": [],
   "source": [
    "#Test 1: Construct 5 random variations of the circle and a figure of 8\n",
    "npoints = 50\n",
    "ncurves = 3\n",
    "x = np.zeros((ncurves,npoints))\n",
    "y = np.zeros((ncurves,npoints))\n",
    "\n",
    "x[1:,:],y[1:,:] = randshapes(ncurves-1,npoints)\n",
    "\n",
    "x[0], y[0] = figure_of_eight(npoints)\n",
    "\n",
    "# Using the finite elements\n",
    "U,V,H1,H2, M, dx, dy = rep_fem(x,y)\n",
    "pe = np.transpose(np.array((U,V)),(1,0,2))\n",
    "#pl.plot(U[2,:],V[2,:],'.')\n",
    "ninv = np.shape(pe)[2]\n",
    "pe = np.reshape(pe,(ncurves,ninv*2),order='F')\n",
    "compute_pca(pe, x, y)\n",
    "\n",
    "# Using the monomials\n",
    "cl = (npoints-1)*np.ones((1,ncurves),dtype=int)\n",
    "u = representer(x,y,ncurves,cl,npoints,10)\n",
    "u1 = np.zeros((ncurves,np.shape(u)[1]*np.shape(u)[2]*2))\n",
    "for i in range(ncurves):\n",
    "    u1[i,:] = np.matrix.flatten(u[i,:,:,:])\n",
    "compute_pca(u1, x, y)"
   ]
  },
  {
   "cell_type": "code",
   "execution_count": null,
   "metadata": {},
   "outputs": [],
   "source": [
    "# Save a load of data into matlab file for easy comparison\n",
    "import scipy.io as spi\n",
    "ncurves = 200\n",
    "npoints = 500\n",
    "x,y = randshapes(ncurves,npoints)\n",
    "spi.savemat('currents_data_200_500.mat',{'x':x,'y':y})"
   ]
  },
  {
   "cell_type": "code",
   "execution_count": null,
   "metadata": {},
   "outputs": [],
   "source": [
    "\n",
    "\n",
    "# PCA on the representer space, not Euclidean space\n",
    "ncurves = 32\n",
    "data = spi.loadmat('currents_data_200_500.mat')\n",
    "x = data['x']\n",
    "y = data['y']\n",
    "x = x[:ncurves,:]\n",
    "y = y[:ncurves,:]\n",
    "U,V,H1,H2,M,dx,dy = rep_fem(x,y)\n",
    "pe = np.transpose(np.array((U,V)),(1,0,2))\n",
    "#pl.plot(U[2,:],V[2,:],'.')\n",
    "ninv = np.shape(pe)[2]\n",
    "pe = np.reshape(pe,(ncurves,ninv*2),order='F')\n",
    "compute_pca(pe, x, y)\n",
    "\n",
    "cl = (npoints-1)*np.ones((1,ncurves),dtype=int)\n",
    "u = representer(x,y,ncurves,cl,npoints,10)\n",
    "u1 = np.zeros((ncurves,np.shape(u)[1]*np.shape(u)[2]*2))\n",
    "for i in range(ncurves):\n",
    "    u1[i,:] = np.matrix.flatten(u[i,:,:,:])\n",
    "compute_pca(u1, x, y)"
   ]
  },
  {
   "cell_type": "code",
   "execution_count": null,
   "metadata": {},
   "outputs": [],
   "source": [
    "# This version is like Robert's, does PCA on the currents of the curve (not the representer)\n",
    "def current_pca(ncurves=32,npoints=500,N=10):\n",
    "    pl.ion()\n",
    "    cl = (npoints-1)*np.ones((1,ncurves),dtype=int)\n",
    "    #x,y = randshapes(ncurves,npoints)\n",
    "    data = spi.loadmat('currents_data_200_500.mat')\n",
    "    x = data['x']\n",
    "    y = data['y']\n",
    "    x = x[:ncurves,:]\n",
    "    y = y[:ncurves,:]\n",
    "    #x[0,:] = 0.5*np.cos(np.linspace(0,2*np.pi,npoints,endpoint=False))\n",
    "    #y[0,:] = 0.5*np.sin(2*np.linspace(0,2*np.pi,npoints,endpoint=False))\n",
    "    x,y,curr,curr2 = getc(x,y,ncurves,cl,N)\n",
    "\n",
    "    [Gi,G] = dualnorm(N)\n",
    "    L = np.linalg.cholesky(G)\n",
    "    Linv = np.linalg.inv(L)\n",
    "    from scipy.linalg import block_diag\n",
    "    #Gihalf = block_diag(Linv,Linv)\n",
    "    Gihalf = block_diag(Linv)\n",
    "    \n",
    "    #Ghalf = np.linalg.cholesky(G).T\n",
    "\n",
    "    # representer in Euclidean basis\n",
    "    #ue = np.dot(Ghalf,u1)\n",
    "    #print (np.sqrt(np.dot(u1.T,np.dot(G,u1))),np.linalg.norm(ue))\n",
    "    #Gihalf = np.linalg.cholesky(Gi).T\n",
    "\n",
    "    pe = np.zeros(np.shape(curr2))\n",
    "    for i in range(ncurves):\n",
    "        pe[i,:] = np.dot(Gihalf,curr2[i,:].T).T\n",
    "\n",
    "    pca_opt(pe,x,y,'monomial',20)\n",
    "    \n",
    "\n",
    "    #curr2 = np.hstack((invx,invy))\n"
   ]
  },
  {
   "cell_type": "code",
   "execution_count": null,
   "metadata": {},
   "outputs": [],
   "source": [
    "current_pca()"
   ]
  },
  {
   "cell_type": "code",
   "execution_count": null,
   "metadata": {},
   "outputs": [],
   "source": [
    "# This version is like Robert's, does PCA on the currents of the curve (not the representer)\n",
    "def fem_current_pca(ncurves=32,npoints=500,order=1,meshsize=10):\n",
    "    pl.ion() \n",
    "    #x,y = randshapes(ncurves,npoints)\n",
    "    data = spi.loadmat('currents_data_200_500.mat')\n",
    "    x = data['x']\n",
    "    y = data['y']\n",
    "    x = x[:ncurves,:]\n",
    "    y = y[:ncurves,:]\n",
    "    #x[0,:] = 0.5*np.cos(np.linspace(0,2*np.pi,npoints,endpoint=False))\n",
    "    #y[0,:] = 0.5*np.sin(2*np.linspace(0,2*np.pi,npoints,endpoint=False))\n",
    "    \n",
    "    U,V,H1,H2, G, invx, invy = rep_fem(x,y)\n",
    "    G = np.squeeze(G[0,:,:])\n",
    "    \n",
    "    # For the H^1 metric use L = np.linalg.cholesky(G)\n",
    "    L = np.linalg.cholesky(G)\n",
    "    # For the H^2 metric use L = G\n",
    "    #L=G\n",
    "    \n",
    "    Linv = np.linalg.inv(L)\n",
    "    from scipy.linalg import block_diag\n",
    "    Gihalf = block_diag(Linv,Linv)\n",
    "    curr2 = np.hstack((invx,invy))\n",
    "\n",
    "    # representer in Euclidean basis\n",
    "    pe = np.zeros(np.shape(curr2))\n",
    "    for i in range(ncurves):\n",
    "        pe[i,:] = np.dot(Gihalf,curr2[i,:].T).T\n",
    "\n",
    "    name = 'fem_'+str(order)+'_'+str(meshsize)\n",
    "    pca_opt(pe,x,y,name,8)"
   ]
  },
  {
   "cell_type": "code",
   "execution_count": null,
   "metadata": {
    "scrolled": false
   },
   "outputs": [],
   "source": [
    "#space = FEMShapeInvariant(order=1, meshsize=10,L=1)\n",
    "fem_current_pca(order=1,meshsize=10)\n",
    "#shapecalc = fem.FEMShapeInvariant(order=1, meshsize=20,L=1)\n",
    "#pe2, d = fem_current_pca()\n",
    "#shapecalc = fem.FEMShapeInvariant(order=4, meshsize=20,L=1)\n",
    "#pe = fem_current_pca()"
   ]
  },
  {
   "cell_type": "markdown",
   "metadata": {},
   "source": [
    "d(0,1), d(0,2), d(0,3)\n",
    "order 1, mesh = 10, 20, 40\n",
    "(2.2949783713748606, 2.4006275209345507, 2.2316118057013319)\n",
    "(1.6047046605854045, 1.6207933275335604, 1.6825498540372308)\n",
    "(1.2664142928892494, 1.2783837142622918, 1.3259963291001282)\n",
    "\n",
    "order 4, mesh = 5, 10, 20\n",
    "(2.2997301392640863, 2.2460204102017722, 2.2746276352501957)\n",
    "(1.7498901419675774, 1.7855146077354773, 1.7592703776709591)\n",
    "\n",
    "d(0,1), d(0,2), d(1,2)\n",
    "order 4, mesh = 5, 10, 20\n",
    "(2.7899967862469111, 2.8270892665201925, 0.8246409669811765)\n",
    "(2.8852668644254802, 2.9246305575121454, 1.0339455136119406)\n",
    "(2.9389698376057898, 2.9713066427066308, 1.1315582359980916)"
   ]
  },
  {
   "cell_type": "code",
   "execution_count": null,
   "metadata": {},
   "outputs": [],
   "source": []
  }
 ],
 "metadata": {
  "kernelspec": {
   "display_name": "Python 3",
   "language": "python",
   "name": "python3"
  },
  "language_info": {
   "codemirror_mode": {
    "name": "ipython",
    "version": 3
   },
   "file_extension": ".py",
   "mimetype": "text/x-python",
   "name": "python",
   "nbconvert_exporter": "python",
   "pygments_lexer": "ipython3",
   "version": "3.6.6"
  }
 },
 "nbformat": 4,
 "nbformat_minor": 2
}
